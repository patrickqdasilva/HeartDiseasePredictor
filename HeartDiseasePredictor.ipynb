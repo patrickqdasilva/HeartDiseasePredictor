{
 "cells": [
  {
   "cell_type": "markdown",
   "id": "f145fbe5",
   "metadata": {},
   "source": [
    "# Heart Disease Prediction\n",
    "### Written by Patrick Da Silva\n",
    "* The aim of this project is to apply the basics of Pyspark, Scikit-learn, Pandas, and Matplotlib as well as to experiment with the machine learning pipeline\n",
    "* This model will assess common influences on heart disease to potentially predict early onset of the disease\n",
    "* Ideally this project could be used to help patients receive preventative care before the regular onset of symptoms"
   ]
  },
  {
   "cell_type": "markdown",
   "id": "41a32d4f",
   "metadata": {},
   "source": [
    "## Step 1: Import libraries and data"
   ]
  },
  {
   "cell_type": "code",
   "execution_count": null,
   "id": "09f51e54-1a9a-4a82-b198-71ff04224d6d",
   "metadata": {
    "tags": []
   },
   "outputs": [],
   "source": [
    "!pip install matplotlib sklearn"
   ]
  },
  {
   "cell_type": "code",
   "execution_count": 17,
   "id": "12af2819",
   "metadata": {},
   "outputs": [],
   "source": [
    "import pandas as pd\n",
    "from matplotlib import pyplot as plt\n",
    "from sklearn.ensemble import RandomForestRegressor\n",
    "from sklearn.metrics import mean_absolute_error\n",
    "from sklearn.model_selection import train_test_split"
   ]
  },
  {
   "cell_type": "markdown",
   "id": "334f5ce6-8b3a-499f-9eb1-4e9444dc322b",
   "metadata": {},
   "source": [
    "#### Import Pyspark, Start an Enviornment, and Import Data"
   ]
  },
  {
   "cell_type": "code",
   "execution_count": 2,
   "id": "3c4a038e-1c87-4ddd-b07c-c80af4c70554",
   "metadata": {},
   "outputs": [],
   "source": [
    "import pyspark\n",
    "from pyspark.sql import SparkSession\n",
    "\n",
    "spark = SparkSession \\\n",
    "    .builder \\\n",
    "    .appName('Heart Disease Data') \\\n",
    "    .getOrCreate()"
   ]
  },
  {
   "cell_type": "code",
   "execution_count": 3,
   "id": "aef25153-5367-4aeb-b608-c405b59a7f36",
   "metadata": {},
   "outputs": [],
   "source": [
    "heart_data = (spark.read\n",
    "              .format('csv')\n",
    "              .option('header', 'true')\n",
    "              .load('data/heart.csv')\n",
    "             )"
   ]
  },
  {
   "cell_type": "markdown",
   "id": "0432601a",
   "metadata": {},
   "source": [
    "## Step 2: Conduct exploratory data analysis to assess general correlation among variables"
   ]
  },
  {
   "cell_type": "code",
   "execution_count": 4,
   "id": "ff6a76d4",
   "metadata": {},
   "outputs": [
    {
     "name": "stdout",
     "output_type": "stream",
     "text": [
      "+---+---+-------------+---------+-----------+---------+----------+-----+--------------+-------+--------+------------+\n",
      "|Age|Sex|ChestPainType|RestingBP|Cholesterol|FastingBS|RestingECG|MaxHR|ExerciseAngina|Oldpeak|ST_Slope|HeartDisease|\n",
      "+---+---+-------------+---------+-----------+---------+----------+-----+--------------+-------+--------+------------+\n",
      "| 40|  M|          ATA|      140|        289|        0|    Normal|  172|             N|      0|      Up|           0|\n",
      "| 49|  F|          NAP|      160|        180|        0|    Normal|  156|             N|      1|    Flat|           1|\n",
      "| 37|  M|          ATA|      130|        283|        0|        ST|   98|             N|      0|      Up|           0|\n",
      "| 48|  F|          ASY|      138|        214|        0|    Normal|  108|             Y|    1.5|    Flat|           1|\n",
      "| 54|  M|          NAP|      150|        195|        0|    Normal|  122|             N|      0|      Up|           0|\n",
      "+---+---+-------------+---------+-----------+---------+----------+-----+--------------+-------+--------+------------+\n",
      "only showing top 5 rows\n",
      "\n",
      "None\n",
      "Descriptive stats of Heart Attack data\n",
      "              count        mean         std   min     25%    50%    75%    max\n",
      "Age           918.0   53.510895    9.432617  28.0   47.00   54.0   60.0   77.0\n",
      "RestingBP     918.0  132.396515   18.514154   0.0  120.00  130.0  140.0  200.0\n",
      "Cholesterol   918.0  198.799561  109.384148   0.0  173.25  223.0  267.0  603.0\n",
      "FastingBS     918.0    0.233115    0.423046   0.0    0.00    0.0    0.0    1.0\n",
      "MaxHR         918.0  136.809372   25.460335  60.0  120.00  138.0  156.0  202.0\n",
      "Oldpeak       918.0    0.887364    1.066570  -2.6    0.00    0.6    1.5    6.2\n",
      "HeartDisease  918.0    0.553377    0.497414   0.0    0.00    1.0    1.0    1.0\n",
      "\n",
      "Checking for missing values\n",
      "Age               False\n",
      "Sex               False\n",
      "ChestPainType     False\n",
      "RestingBP         False\n",
      "Cholesterol       False\n",
      "FastingBS         False\n",
      "RestingECG        False\n",
      "MaxHR             False\n",
      "ExerciseAngina    False\n",
      "Oldpeak           False\n",
      "ST_Slope          False\n",
      "HeartDisease      False\n",
      "dtype: bool\n",
      "\n",
      "Checking data types\n",
      "Age               float32\n",
      "Sex                object\n",
      "ChestPainType      object\n",
      "RestingBP         float32\n",
      "Cholesterol       float32\n",
      "FastingBS         float32\n",
      "RestingECG         object\n",
      "MaxHR             float32\n",
      "ExerciseAngina     object\n",
      "Oldpeak           float32\n",
      "ST_Slope           object\n",
      "HeartDisease        int32\n",
      "dtype: object\n"
     ]
    }
   ],
   "source": [
    "#Peeking into the first 5 rows to make sure data 'looks' correct\n",
    "print(heart_data.show(5))\n",
    "\n",
    "#Pyspark converted all the data into strings - type cast integers and floats back to the correct values\n",
    "from pyspark.sql.functions import col\n",
    "heart_data = heart_data.select(\n",
    "    col('Age').cast('float'),\n",
    "    col('Sex'),\n",
    "    col('ChestPainType'),\n",
    "    col('RestingBP').cast('float'),\n",
    "    col('Cholesterol').cast('float'),\n",
    "    col('FastingBS').cast('float'),\n",
    "    col('RestingECG'),\n",
    "    col('MaxHR').cast('float'),\n",
    "    col('ExerciseAngina'),\n",
    "    col('Oldpeak').cast('float'),\n",
    "    col('ST_Slope'),\n",
    "    col('HeartDisease').cast('int'),\n",
    ")\n",
    "\n",
    "#Switch the pyspark dataframe into a pandas dataframe (pyspark has an ML library, but I will not be using it for this project)\n",
    "heart_data = heart_data.toPandas()\n",
    "\n",
    "#Descriptive statistics of our data\n",
    "print('Descriptive stats of Heart Attack data\\n', heart_data.describe().transpose(), '\\n', sep = '')\n",
    "\n",
    "#Check for missing values. None are found in this dataset\n",
    "print('Checking for missing values\\n', heart_data.isnull().any(), '\\n', sep = '')\n",
    "\n",
    "#Check the types of data. All that are 'object' will need to be 'One Hot Encoded'\n",
    "print('Checking data types\\n', heart_data.dtypes, sep = '')"
   ]
  },
  {
   "cell_type": "markdown",
   "id": "1b6c62c1-b6f2-40f7-80fb-40eaea899373",
   "metadata": {},
   "source": [
    "### Analysis:\n",
    "##### There are no missing values. <br>\n",
    "##### Cholesterol has a large standard deviation, so graph to view potential skew. <br>"
   ]
  },
  {
   "cell_type": "code",
   "execution_count": 20,
   "id": "b2119a39-3b2c-4475-9e15-35918515d4ce",
   "metadata": {},
   "outputs": [
    {
     "data": {
      "image/png": "[encoded data removed]",
      "text/plain": [
       "<Figure size 640x480 with 1 Axes>"
      ]
     },
     "metadata": {},
     "output_type": "display_data"
    }
   ],
   "source": [
    "loss_eval = plt.hist(heart_data['Cholesterol'])\n",
    "plt.xlabel('Cholesterol Level')\n",
    "plt.ylabel('Frequency')\n",
    "plt.show()"
   ]
  },
  {
   "cell_type": "markdown",
   "id": "9ce1f302-2510-4b9e-82af-3af09696b5f0",
   "metadata": {},
   "source": [
    "##### Cholesterol is bimodal and skewed to the right. If imputation were necessary, I may choose to use the mode as the measure of central tendency"
   ]
  },
  {
   "cell_type": "markdown",
   "id": "21349aab",
   "metadata": {},
   "source": [
    "### Step 3: Choosing the target feature (the feature I want to predict)"
   ]
  },
  {
   "cell_type": "code",
   "execution_count": 21,
   "id": "fc375864",
   "metadata": {},
   "outputs": [
    {
     "name": "stdout",
     "output_type": "stream",
     "text": [
      "0.5533769063180828\n"
     ]
    }
   ],
   "source": [
    "#chosing the column 'HeartDisease' {0: absence of heart disease, 1: has heart disease}\n",
    "target = heart_data.pop('HeartDisease')\n",
    "\n",
    "#Print out proportion of people in the dataset that have heart disease to see if dataset is biased\n",
    "print(sum(target)/len(target))"
   ]
  },
  {
   "cell_type": "markdown",
   "id": "ea1e0043",
   "metadata": {},
   "source": [
    "### Step 4: Selecting Features and Normalizing"
   ]
  },
  {
   "cell_type": "code",
   "execution_count": 22,
   "id": "a702c430",
   "metadata": {},
   "outputs": [],
   "source": [
    "#One Hot Encoding for categorical variables\n",
    "heart_data_ohe = pd.get_dummies(heart_data)\n",
    "\n",
    "#need to apply special conversion to Oldpeak, since it has negative values\n",
    "op_min = heart_data_ohe.Oldpeak.min()\n",
    "heart_data_ohe.Oldpeak = heart_data_ohe.Oldpeak.map(lambda x: abs(x) - op_min)\n",
    "\n",
    "#normalize all columns\n",
    "predictors = list(heart_data_ohe.columns)\n",
    "heart_data_ohe[predictors] = heart_data_ohe[predictors]/heart_data_ohe[predictors].max()"
   ]
  },
  {
   "cell_type": "code",
   "execution_count": 23,
   "id": "c200c22d-de72-432f-b2f6-447789b6d17b",
   "metadata": {},
   "outputs": [
    {
     "data": {
      "text/html": [
       "<div>\n",
       "<style scoped>\n",
       "    .dataframe tbody tr th:only-of-type {\n",
       "        vertical-align: middle;\n",
       "    }\n",
       "\n",
       "    .dataframe tbody tr th {\n",
       "        vertical-align: top;\n",
       "    }\n",
       "\n",
       "    .dataframe thead th {\n",
       "        text-align: right;\n",
       "    }\n",
       "</style>\n",
       "<table border=\"1\" class=\"dataframe\">\n",
       "  <thead>\n",
       "    <tr style=\"text-align: right;\">\n",
       "      <th></th>\n",
       "      <th>count</th>\n",
       "      <th>mean</th>\n",
       "      <th>std</th>\n",
       "      <th>min</th>\n",
       "      <th>25%</th>\n",
       "      <th>50%</th>\n",
       "      <th>75%</th>\n",
       "      <th>max</th>\n",
       "    </tr>\n",
       "  </thead>\n",
       "  <tbody>\n",
       "    <tr>\n",
       "      <th>Age</th>\n",
       "      <td>918.0</td>\n",
       "      <td>0.694947</td>\n",
       "      <td>0.122502</td>\n",
       "      <td>0.363636</td>\n",
       "      <td>0.610390</td>\n",
       "      <td>0.701299</td>\n",
       "      <td>0.779221</td>\n",
       "      <td>1.0</td>\n",
       "    </tr>\n",
       "    <tr>\n",
       "      <th>RestingBP</th>\n",
       "      <td>918.0</td>\n",
       "      <td>0.661983</td>\n",
       "      <td>0.092571</td>\n",
       "      <td>0.000000</td>\n",
       "      <td>0.600000</td>\n",
       "      <td>0.650000</td>\n",
       "      <td>0.700000</td>\n",
       "      <td>1.0</td>\n",
       "    </tr>\n",
       "    <tr>\n",
       "      <th>Cholesterol</th>\n",
       "      <td>918.0</td>\n",
       "      <td>0.329684</td>\n",
       "      <td>0.181400</td>\n",
       "      <td>0.000000</td>\n",
       "      <td>0.287313</td>\n",
       "      <td>0.369818</td>\n",
       "      <td>0.442786</td>\n",
       "      <td>1.0</td>\n",
       "    </tr>\n",
       "    <tr>\n",
       "      <th>FastingBS</th>\n",
       "      <td>918.0</td>\n",
       "      <td>0.233115</td>\n",
       "      <td>0.423046</td>\n",
       "      <td>0.000000</td>\n",
       "      <td>0.000000</td>\n",
       "      <td>0.000000</td>\n",
       "      <td>0.000000</td>\n",
       "      <td>1.0</td>\n",
       "    </tr>\n",
       "    <tr>\n",
       "      <th>MaxHR</th>\n",
       "      <td>918.0</td>\n",
       "      <td>0.677274</td>\n",
       "      <td>0.126041</td>\n",
       "      <td>0.297030</td>\n",
       "      <td>0.594059</td>\n",
       "      <td>0.683168</td>\n",
       "      <td>0.772277</td>\n",
       "      <td>1.0</td>\n",
       "    </tr>\n",
       "    <tr>\n",
       "      <th>Oldpeak</th>\n",
       "      <td>918.0</td>\n",
       "      <td>0.399460</td>\n",
       "      <td>0.118490</td>\n",
       "      <td>0.295455</td>\n",
       "      <td>0.295455</td>\n",
       "      <td>0.363636</td>\n",
       "      <td>0.465909</td>\n",
       "      <td>1.0</td>\n",
       "    </tr>\n",
       "    <tr>\n",
       "      <th>Sex_F</th>\n",
       "      <td>918.0</td>\n",
       "      <td>0.210240</td>\n",
       "      <td>0.407701</td>\n",
       "      <td>0.000000</td>\n",
       "      <td>0.000000</td>\n",
       "      <td>0.000000</td>\n",
       "      <td>0.000000</td>\n",
       "      <td>1.0</td>\n",
       "    </tr>\n",
       "    <tr>\n",
       "      <th>Sex_M</th>\n",
       "      <td>918.0</td>\n",
       "      <td>0.789760</td>\n",
       "      <td>0.407701</td>\n",
       "      <td>0.000000</td>\n",
       "      <td>1.000000</td>\n",
       "      <td>1.000000</td>\n",
       "      <td>1.000000</td>\n",
       "      <td>1.0</td>\n",
       "    </tr>\n",
       "    <tr>\n",
       "      <th>ChestPainType_ASY</th>\n",
       "      <td>918.0</td>\n",
       "      <td>0.540305</td>\n",
       "      <td>0.498645</td>\n",
       "      <td>0.000000</td>\n",
       "      <td>0.000000</td>\n",
       "      <td>1.000000</td>\n",
       "      <td>1.000000</td>\n",
       "      <td>1.0</td>\n",
       "    </tr>\n",
       "    <tr>\n",
       "      <th>ChestPainType_ATA</th>\n",
       "      <td>918.0</td>\n",
       "      <td>0.188453</td>\n",
       "      <td>0.391287</td>\n",
       "      <td>0.000000</td>\n",
       "      <td>0.000000</td>\n",
       "      <td>0.000000</td>\n",
       "      <td>0.000000</td>\n",
       "      <td>1.0</td>\n",
       "    </tr>\n",
       "    <tr>\n",
       "      <th>ChestPainType_NAP</th>\n",
       "      <td>918.0</td>\n",
       "      <td>0.221133</td>\n",
       "      <td>0.415236</td>\n",
       "      <td>0.000000</td>\n",
       "      <td>0.000000</td>\n",
       "      <td>0.000000</td>\n",
       "      <td>0.000000</td>\n",
       "      <td>1.0</td>\n",
       "    </tr>\n",
       "    <tr>\n",
       "      <th>ChestPainType_TA</th>\n",
       "      <td>918.0</td>\n",
       "      <td>0.050109</td>\n",
       "      <td>0.218289</td>\n",
       "      <td>0.000000</td>\n",
       "      <td>0.000000</td>\n",
       "      <td>0.000000</td>\n",
       "      <td>0.000000</td>\n",
       "      <td>1.0</td>\n",
       "    </tr>\n",
       "    <tr>\n",
       "      <th>RestingECG_LVH</th>\n",
       "      <td>918.0</td>\n",
       "      <td>0.204793</td>\n",
       "      <td>0.403770</td>\n",
       "      <td>0.000000</td>\n",
       "      <td>0.000000</td>\n",
       "      <td>0.000000</td>\n",
       "      <td>0.000000</td>\n",
       "      <td>1.0</td>\n",
       "    </tr>\n",
       "    <tr>\n",
       "      <th>RestingECG_Normal</th>\n",
       "      <td>918.0</td>\n",
       "      <td>0.601307</td>\n",
       "      <td>0.489896</td>\n",
       "      <td>0.000000</td>\n",
       "      <td>0.000000</td>\n",
       "      <td>1.000000</td>\n",
       "      <td>1.000000</td>\n",
       "      <td>1.0</td>\n",
       "    </tr>\n",
       "    <tr>\n",
       "      <th>RestingECG_ST</th>\n",
       "      <td>918.0</td>\n",
       "      <td>0.193900</td>\n",
       "      <td>0.395567</td>\n",
       "      <td>0.000000</td>\n",
       "      <td>0.000000</td>\n",
       "      <td>0.000000</td>\n",
       "      <td>0.000000</td>\n",
       "      <td>1.0</td>\n",
       "    </tr>\n",
       "    <tr>\n",
       "      <th>ExerciseAngina_N</th>\n",
       "      <td>918.0</td>\n",
       "      <td>0.595861</td>\n",
       "      <td>0.490992</td>\n",
       "      <td>0.000000</td>\n",
       "      <td>0.000000</td>\n",
       "      <td>1.000000</td>\n",
       "      <td>1.000000</td>\n",
       "      <td>1.0</td>\n",
       "    </tr>\n",
       "    <tr>\n",
       "      <th>ExerciseAngina_Y</th>\n",
       "      <td>918.0</td>\n",
       "      <td>0.404139</td>\n",
       "      <td>0.490992</td>\n",
       "      <td>0.000000</td>\n",
       "      <td>0.000000</td>\n",
       "      <td>0.000000</td>\n",
       "      <td>1.000000</td>\n",
       "      <td>1.0</td>\n",
       "    </tr>\n",
       "    <tr>\n",
       "      <th>ST_Slope_Down</th>\n",
       "      <td>918.0</td>\n",
       "      <td>0.068627</td>\n",
       "      <td>0.252957</td>\n",
       "      <td>0.000000</td>\n",
       "      <td>0.000000</td>\n",
       "      <td>0.000000</td>\n",
       "      <td>0.000000</td>\n",
       "      <td>1.0</td>\n",
       "    </tr>\n",
       "    <tr>\n",
       "      <th>ST_Slope_Flat</th>\n",
       "      <td>918.0</td>\n",
       "      <td>0.501089</td>\n",
       "      <td>0.500271</td>\n",
       "      <td>0.000000</td>\n",
       "      <td>0.000000</td>\n",
       "      <td>1.000000</td>\n",
       "      <td>1.000000</td>\n",
       "      <td>1.0</td>\n",
       "    </tr>\n",
       "    <tr>\n",
       "      <th>ST_Slope_Up</th>\n",
       "      <td>918.0</td>\n",
       "      <td>0.430283</td>\n",
       "      <td>0.495386</td>\n",
       "      <td>0.000000</td>\n",
       "      <td>0.000000</td>\n",
       "      <td>0.000000</td>\n",
       "      <td>1.000000</td>\n",
       "      <td>1.0</td>\n",
       "    </tr>\n",
       "  </tbody>\n",
       "</table>\n",
       "</div>"
      ],
      "text/plain": [
       "                   count      mean       std       min       25%       50%  \\\n",
       "Age                918.0  0.694947  0.122502  0.363636  0.610390  0.701299   \n",
       "RestingBP          918.0  0.661983  0.092571  0.000000  0.600000  0.650000   \n",
       "Cholesterol        918.0  0.329684  0.181400  0.000000  0.287313  0.369818   \n",
       "FastingBS          918.0  0.233115  0.423046  0.000000  0.000000  0.000000   \n",
       "MaxHR              918.0  0.677274  0.126041  0.297030  0.594059  0.683168   \n",
       "Oldpeak            918.0  0.399460  0.118490  0.295455  0.295455  0.363636   \n",
       "Sex_F              918.0  0.210240  0.407701  0.000000  0.000000  0.000000   \n",
       "Sex_M              918.0  0.789760  0.407701  0.000000  1.000000  1.000000   \n",
       "ChestPainType_ASY  918.0  0.540305  0.498645  0.000000  0.000000  1.000000   \n",
       "ChestPainType_ATA  918.0  0.188453  0.391287  0.000000  0.000000  0.000000   \n",
       "ChestPainType_NAP  918.0  0.221133  0.415236  0.000000  0.000000  0.000000   \n",
       "ChestPainType_TA   918.0  0.050109  0.218289  0.000000  0.000000  0.000000   \n",
       "RestingECG_LVH     918.0  0.204793  0.403770  0.000000  0.000000  0.000000   \n",
       "RestingECG_Normal  918.0  0.601307  0.489896  0.000000  0.000000  1.000000   \n",
       "RestingECG_ST      918.0  0.193900  0.395567  0.000000  0.000000  0.000000   \n",
       "ExerciseAngina_N   918.0  0.595861  0.490992  0.000000  0.000000  1.000000   \n",
       "ExerciseAngina_Y   918.0  0.404139  0.490992  0.000000  0.000000  0.000000   \n",
       "ST_Slope_Down      918.0  0.068627  0.252957  0.000000  0.000000  0.000000   \n",
       "ST_Slope_Flat      918.0  0.501089  0.500271  0.000000  0.000000  1.000000   \n",
       "ST_Slope_Up        918.0  0.430283  0.495386  0.000000  0.000000  0.000000   \n",
       "\n",
       "                        75%  max  \n",
       "Age                0.779221  1.0  \n",
       "RestingBP          0.700000  1.0  \n",
       "Cholesterol        0.442786  1.0  \n",
       "FastingBS          0.000000  1.0  \n",
       "MaxHR              0.772277  1.0  \n",
       "Oldpeak            0.465909  1.0  \n",
       "Sex_F              0.000000  1.0  \n",
       "Sex_M              1.000000  1.0  \n",
       "ChestPainType_ASY  1.000000  1.0  \n",
       "ChestPainType_ATA  0.000000  1.0  \n",
       "ChestPainType_NAP  0.000000  1.0  \n",
       "ChestPainType_TA   0.000000  1.0  \n",
       "RestingECG_LVH     0.000000  1.0  \n",
       "RestingECG_Normal  1.000000  1.0  \n",
       "RestingECG_ST      0.000000  1.0  \n",
       "ExerciseAngina_N   1.000000  1.0  \n",
       "ExerciseAngina_Y   1.000000  1.0  \n",
       "ST_Slope_Down      0.000000  1.0  \n",
       "ST_Slope_Flat      1.000000  1.0  \n",
       "ST_Slope_Up        1.000000  1.0  "
      ]
     },
     "execution_count": 23,
     "metadata": {},
     "output_type": "execute_result"
    }
   ],
   "source": [
    "#Check head to verify computations were successful (should have min >= 0 and max <= 1)\n",
    "heart_data_ohe.describe().transpose()"
   ]
  },
  {
   "cell_type": "markdown",
   "id": "c9f5c95c",
   "metadata": {
    "tags": []
   },
   "source": [
    "### Step 5: Split data into training and validation sets"
   ]
  },
  {
   "cell_type": "code",
   "execution_count": 25,
   "id": "a7745966",
   "metadata": {
    "scrolled": true
   },
   "outputs": [],
   "source": [
    "train_X, val_X, train_Y, val_Y = train_test_split(heart_data_ohe, target, random_state = 0)"
   ]
  },
  {
   "cell_type": "markdown",
   "id": "87208a70",
   "metadata": {},
   "source": [
    "### Step 6: Specify and fit the model"
   ]
  },
  {
   "cell_type": "code",
   "execution_count": 26,
   "id": "99499cf8",
   "metadata": {},
   "outputs": [
    {
     "data": {
      "text/html": [
       "<style>#sk-container-id-1 {color: black;background-color: white;}#sk-container-id-1 pre{padding: 0;}#sk-container-id-1 div.sk-toggleable {background-color: white;}#sk-container-id-1 label.sk-toggleable__label {cursor: pointer;display: block;width: 100%;margin-bottom: 0;padding: 0.3em;box-sizing: border-box;text-align: center;}#sk-container-id-1 label.sk-toggleable__label-arrow:before {content: \"▸\";float: left;margin-right: 0.25em;color: #696969;}#sk-container-id-1 label.sk-toggleable__label-arrow:hover:before {color: black;}#sk-container-id-1 div.sk-estimator:hover label.sk-toggleable__label-arrow:before {color: black;}#sk-container-id-1 div.sk-toggleable__content {max-height: 0;max-width: 0;overflow: hidden;text-align: left;background-color: #f0f8ff;}#sk-container-id-1 div.sk-toggleable__content pre {margin: 0.2em;color: black;border-radius: 0.25em;background-color: #f0f8ff;}#sk-container-id-1 input.sk-toggleable__control:checked~div.sk-toggleable__content {max-height: 200px;max-width: 100%;overflow: auto;}#sk-container-id-1 input.sk-toggleable__control:checked~label.sk-toggleable__label-arrow:before {content: \"▾\";}#sk-container-id-1 div.sk-estimator input.sk-toggleable__control:checked~label.sk-toggleable__label {background-color: #d4ebff;}#sk-container-id-1 div.sk-label input.sk-toggleable__control:checked~label.sk-toggleable__label {background-color: #d4ebff;}#sk-container-id-1 input.sk-hidden--visually {border: 0;clip: rect(1px 1px 1px 1px);clip: rect(1px, 1px, 1px, 1px);height: 1px;margin: -1px;overflow: hidden;padding: 0;position: absolute;width: 1px;}#sk-container-id-1 div.sk-estimator {font-family: monospace;background-color: #f0f8ff;border: 1px dotted black;border-radius: 0.25em;box-sizing: border-box;margin-bottom: 0.5em;}#sk-container-id-1 div.sk-estimator:hover {background-color: #d4ebff;}#sk-container-id-1 div.sk-parallel-item::after {content: \"\";width: 100%;border-bottom: 1px solid gray;flex-grow: 1;}#sk-container-id-1 div.sk-label:hover label.sk-toggleable__label {background-color: #d4ebff;}#sk-container-id-1 div.sk-serial::before {content: \"\";position: absolute;border-left: 1px solid gray;box-sizing: border-box;top: 0;bottom: 0;left: 50%;z-index: 0;}#sk-container-id-1 div.sk-serial {display: flex;flex-direction: column;align-items: center;background-color: white;padding-right: 0.2em;padding-left: 0.2em;position: relative;}#sk-container-id-1 div.sk-item {position: relative;z-index: 1;}#sk-container-id-1 div.sk-parallel {display: flex;align-items: stretch;justify-content: center;background-color: white;position: relative;}#sk-container-id-1 div.sk-item::before, #sk-container-id-1 div.sk-parallel-item::before {content: \"\";position: absolute;border-left: 1px solid gray;box-sizing: border-box;top: 0;bottom: 0;left: 50%;z-index: -1;}#sk-container-id-1 div.sk-parallel-item {display: flex;flex-direction: column;z-index: 1;position: relative;background-color: white;}#sk-container-id-1 div.sk-parallel-item:first-child::after {align-self: flex-end;width: 50%;}#sk-container-id-1 div.sk-parallel-item:last-child::after {align-self: flex-start;width: 50%;}#sk-container-id-1 div.sk-parallel-item:only-child::after {width: 0;}#sk-container-id-1 div.sk-dashed-wrapped {border: 1px dashed gray;margin: 0 0.4em 0.5em 0.4em;box-sizing: border-box;padding-bottom: 0.4em;background-color: white;}#sk-container-id-1 div.sk-label label {font-family: monospace;font-weight: bold;display: inline-block;line-height: 1.2em;}#sk-container-id-1 div.sk-label-container {text-align: center;}#sk-container-id-1 div.sk-container {/* jupyter's `normalize.less` sets `[hidden] { display: none; }` but bootstrap.min.css set `[hidden] { display: none !important; }` so we also need the `!important` here to be able to override the default hidden behavior on the sphinx rendered scikit-learn.org. See: https://github.com/scikit-learn/scikit-learn/issues/21755 */display: inline-block !important;position: relative;}#sk-container-id-1 div.sk-text-repr-fallback {display: none;}</style><div id=\"sk-container-id-1\" class=\"sk-top-container\"><div class=\"sk-text-repr-fallback\"><pre>RandomForestRegressor(random_state=0)</pre><b>In a Jupyter environment, please rerun this cell to show the HTML representation or trust the notebook. <br />On GitHub, the HTML representation is unable to render, please try loading this page with nbviewer.org.</b></div><div class=\"sk-container\" hidden><div class=\"sk-item\"><div class=\"sk-estimator sk-toggleable\"><input class=\"sk-toggleable__control sk-hidden--visually\" id=\"sk-estimator-id-1\" type=\"checkbox\" checked><label for=\"sk-estimator-id-1\" class=\"sk-toggleable__label sk-toggleable__label-arrow\">RandomForestRegressor</label><div class=\"sk-toggleable__content\"><pre>RandomForestRegressor(random_state=0)</pre></div></div></div></div></div>"
      ],
      "text/plain": [
       "RandomForestRegressor(random_state=0)"
      ]
     },
     "execution_count": 26,
     "metadata": {},
     "output_type": "execute_result"
    }
   ],
   "source": [
    "heart_data_ohe_model = RandomForestRegressor(random_state = 0)\n",
    "heart_data_ohe_model.fit(train_X, train_Y)"
   ]
  },
  {
   "cell_type": "markdown",
   "id": "14511529",
   "metadata": {
    "tags": []
   },
   "source": [
    "### Step 7: Making predictions and assessing error"
   ]
  },
  {
   "cell_type": "code",
   "execution_count": 27,
   "id": "69538d89",
   "metadata": {},
   "outputs": [
    {
     "name": "stdout",
     "output_type": "stream",
     "text": [
      "Mean Absolute Error is 0.21756521739130438\n"
     ]
    }
   ],
   "source": [
    "heart_data_predictions = heart_data_ohe_model.predict(val_X)\n",
    "mae = mean_absolute_error(val_Y, heart_data_predictions)\n",
    "print('Mean Absolute Error is', mae)"
   ]
  },
  {
   "cell_type": "markdown",
   "id": "c68d425c-3f9e-459b-aac4-6cb93dd29aef",
   "metadata": {},
   "source": [
    "## Conclusions:\n",
    "#### Model Analysis:\n",
    "- This model was able to predict heart disease status with 79% accuracy\n",
    "\n",
    "#### Limitations:\n",
    "- There were roughly 900 rows of data, which could be augmented for better results\n",
    "- I did not calculate a confusion matrix, so I there is uncertainty with how the model is currently performing\n",
    "\n",
    "#### Future Directions:\n",
    "- Implementing cross validation to give a more accurate measure of model performance\n",
    "- Integrate this model into an existing patient database to automatically update clinicians on patients who may be at risk for heart disease"
   ]
  }
 ],
 "metadata": {
  "kernelspec": {
   "display_name": "heartML",
   "language": "python",
   "name": "heartml"
  },
  "language_info": {
   "codemirror_mode": {
    "name": "ipython",
    "version": 3
   },
   "file_extension": ".py",
   "mimetype": "text/x-python",
   "name": "python",
   "nbconvert_exporter": "python",
   "pygments_lexer": "ipython3",
   "version": "3.9.7"
  }
 },
 "nbformat": 4,
 "nbformat_minor": 5
}
